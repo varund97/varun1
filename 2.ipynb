{
 "cells": [
  {
   "cell_type": "code",
   "execution_count": 2,
   "metadata": {},
   "outputs": [
    {
     "name": "stdout",
     "output_type": "stream",
     "text": [
      "Enter a temperature in Celcius: 20.8\n",
      "This is equivalent to \n",
      "69.44\n",
      " degrees Farenheight\n"
     ]
    }
   ],
   "source": [
    "temp_Celcius = input('Enter a temperature in Celcius: ')\n",
    "temp_Farenheight = (float(temp_Celcius) * 1.8) + 32\n",
    "print ('This is equivalent to '),\n",
    "print (temp_Farenheight,)\n",
    "print (' degrees Farenheight')"
   ]
  }
 ],
 "metadata": {
  "kernelspec": {
   "display_name": "Python 3",
   "language": "python",
   "name": "python3"
  },
  "language_info": {
   "codemirror_mode": {
    "name": "ipython",
    "version": 3
   },
   "file_extension": ".py",
   "mimetype": "text/x-python",
   "name": "python",
   "nbconvert_exporter": "python",
   "pygments_lexer": "ipython3",
   "version": "3.7.3"
  }
 },
 "nbformat": 4,
 "nbformat_minor": 2
}
