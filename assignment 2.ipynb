{
 "cells": [
  {
   "cell_type": "code",
   "execution_count": 2,
   "metadata": {},
   "outputs": [
    {
     "name": "stdout",
     "output_type": "stream",
     "text": [
      "Enter a number: 4\n",
      "4.0\n",
      "Enter a number: 5\n",
      "5.0\n",
      "Enter a number: done\n",
      "Total:  9.0\n",
      "Count:  2\n",
      "Average:  4.5\n"
     ]
    }
   ],
   "source": [
    "count = 0\n",
    "total = 0\n",
    "while True:\n",
    "    number = input('Enter a number: ')\n",
    "    if number == 'done': \n",
    "        break\n",
    "    number = float(number)\n",
    "    count = count + 1 \n",
    "    total = total + number\n",
    "    print(number)\n",
    "\n",
    "print('Total: ', total)\n",
    "print('Count: ', count)\n",
    "print('Average: ', total/count)\t\n"
   ]
  },
  {
   "cell_type": "code",
   "execution_count": 3,
   "metadata": {},
   "outputs": [
    {
     "name": "stdout",
     "output_type": "stream",
     "text": [
      "0.8475\n"
     ]
    }
   ],
   "source": [
    "string = 'X-DSPAM-Confidence: 0.8475'\n",
    "\n",
    "col_pos = string.find(':')                  \n",
    "number = string[col_pos+1:]                 \n",
    "confidence = float(number)              \n",
    "print(confidence)"
   ]
  },
  {
   "cell_type": "code",
   "execution_count": null,
   "metadata": {},
   "outputs": [],
   "source": []
  }
 ],
 "metadata": {
  "kernelspec": {
   "display_name": "Python 3",
   "language": "python",
   "name": "python3"
  },
  "language_info": {
   "codemirror_mode": {
    "name": "ipython",
    "version": 3
   },
   "file_extension": ".py",
   "mimetype": "text/x-python",
   "name": "python",
   "nbconvert_exporter": "python",
   "pygments_lexer": "ipython3",
   "version": "3.7.3"
  }
 },
 "nbformat": 4,
 "nbformat_minor": 2
}
